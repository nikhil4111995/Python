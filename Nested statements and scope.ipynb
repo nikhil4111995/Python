{
 "cells": [
  {
   "cell_type": "code",
   "execution_count": 11,
   "metadata": {},
   "outputs": [
    {
     "name": "stdout",
     "output_type": "stream",
     "text": [
      "hello sammy\n"
     ]
    }
   ],
   "source": [
    "#name is declared in enclosed so it will pick name from there\n",
    "name = \"this is a global string\"\n",
    "def printer():\n",
    "    name = \"sammy\"\n",
    "    def hello():\n",
    "        print(\"hello {}\".format(name))\n",
    "    hello()\n",
    "printer()"
   ]
  },
  {
   "cell_type": "code",
   "execution_count": 22,
   "metadata": {},
   "outputs": [
    {
     "name": "stdout",
     "output_type": "stream",
     "text": [
      "hello this is a global string\n"
     ]
    }
   ],
   "source": [
    "#No name is declared in local and in enclosed function so it will pick name from global\n",
    "name = \"this is a global string\"\n",
    "def printer():\n",
    "    #name = \"sammy\"\n",
    "    def hello():\n",
    "        print(\"hello {}\".format(name))\n",
    "    hello()\n",
    "printer()"
   ]
  },
  {
   "cell_type": "code",
   "execution_count": 33,
   "metadata": {},
   "outputs": [
    {
     "name": "stdout",
     "output_type": "stream",
     "text": [
      "hello nikhil\n"
     ]
    }
   ],
   "source": [
    "#name is declared in local function \n",
    "name = \"this is a global string\"\n",
    "def printer():\n",
    "    name = \"sammy\"\n",
    "    def hello():\n",
    "        name = \"nikhil\"\n",
    "        print(\"hello {}\".format(name))\n",
    "        \n",
    "    hello()\n",
    "printer()"
   ]
  },
  {
   "cell_type": "code",
   "execution_count": null,
   "metadata": {},
   "outputs": [],
   "source": []
  },
  {
   "cell_type": "code",
   "execution_count": null,
   "metadata": {},
   "outputs": [],
   "source": []
  },
  {
   "cell_type": "code",
   "execution_count": null,
   "metadata": {},
   "outputs": [],
   "source": []
  }
 ],
 "metadata": {
  "kernelspec": {
   "display_name": "Python 3",
   "language": "python",
   "name": "python3"
  },
  "language_info": {
   "codemirror_mode": {
    "name": "ipython",
    "version": 3
   },
   "file_extension": ".py",
   "mimetype": "text/x-python",
   "name": "python",
   "nbconvert_exporter": "python",
   "pygments_lexer": "ipython3",
   "version": "3.7.6"
  }
 },
 "nbformat": 4,
 "nbformat_minor": 4
}
