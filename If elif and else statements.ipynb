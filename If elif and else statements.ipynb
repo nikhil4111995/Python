{
 "cells": [
  {
   "cell_type": "code",
   "execution_count": 3,
   "metadata": {},
   "outputs": [
    {
     "name": "stdout",
     "output_type": "stream",
     "text": [
      "don't feed\n"
     ]
    }
   ],
   "source": [
    "hungary = False\n",
    "if hungary:\n",
    "    print(\"feed me\")\n",
    "else:\n",
    "        print(\"don't feed\")"
   ]
  },
  {
   "cell_type": "code",
   "execution_count": 6,
   "metadata": {},
   "outputs": [
    {
     "name": "stdout",
     "output_type": "stream",
     "text": [
      "location not found\n"
     ]
    }
   ],
   "source": [
    "loc = \"Shopping centre\"\n",
    "if loc ==\"Bank\":\n",
    "    print(\"Money is cool\")\n",
    "elif loc == \"Auto shop\":\n",
    "    print(\"cars are cool\")\n",
    "elif loc ==\"Train station\":\n",
    "    print(\"trains are cool\")\n",
    "else:\n",
    "    print(\"location not found\")"
   ]
  },
  {
   "cell_type": "code",
   "execution_count": 9,
   "metadata": {},
   "outputs": [
    {
     "name": "stdout",
     "output_type": "stream",
     "text": [
      "Wrong\n"
     ]
    }
   ],
   "source": [
    "if 3!=2:\n",
    "    print(\"Correct\")\n",
    "else:\n",
    "    print(\"Wrong\")"
   ]
  },
  {
   "cell_type": "code",
   "execution_count": 13,
   "metadata": {},
   "outputs": [
    {
     "name": "stdout",
     "output_type": "stream",
     "text": [
      "Nice place\n"
     ]
    }
   ],
   "source": [
    "name = \"Sammy\"\n",
    "age = 23\n",
    "Place = \"Aus\"\n",
    "\n",
    "if name ==\"Michael\":\n",
    "    print(\"Hi Sammy\")\n",
    "elif age == 24:\n",
    "    print(\"You are very young\")\n",
    "elif Place== \"Aus\":\n",
    "    print(\"Nice place\")\n",
    "else:\n",
    "    print(\"what is your personal info\")"
   ]
  },
  {
   "cell_type": "code",
   "execution_count": null,
   "metadata": {},
   "outputs": [],
   "source": []
  }
 ],
 "metadata": {
  "kernelspec": {
   "display_name": "Python 3",
   "language": "python",
   "name": "python3"
  },
  "language_info": {
   "codemirror_mode": {
    "name": "ipython",
    "version": 3
   },
   "file_extension": ".py",
   "mimetype": "text/x-python",
   "name": "python",
   "nbconvert_exporter": "python",
   "pygments_lexer": "ipython3",
   "version": "3.7.6"
  }
 },
 "nbformat": 4,
 "nbformat_minor": 4
}
