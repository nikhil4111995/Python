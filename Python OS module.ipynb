{
 "cells": [
  {
   "cell_type": "code",
   "execution_count": 1,
   "metadata": {},
   "outputs": [
    {
     "data": {
      "text/plain": [
       "'/Users/nikhilraizada'"
      ]
     },
     "execution_count": 1,
     "metadata": {},
     "output_type": "execute_result"
    }
   ],
   "source": [
    "pwd"
   ]
  },
  {
   "cell_type": "code",
   "execution_count": 2,
   "metadata": {},
   "outputs": [],
   "source": [
    "f = open(\"practice.txt\",\"w+\")\n",
    "f.write(\"Today is a rainy day\")\n",
    "f.close()"
   ]
  },
  {
   "cell_type": "code",
   "execution_count": 3,
   "metadata": {},
   "outputs": [],
   "source": [
    "import os"
   ]
  },
  {
   "cell_type": "code",
   "execution_count": 5,
   "metadata": {},
   "outputs": [
    {
     "data": {
      "text/plain": [
       "'/Users/nikhilraizada'"
      ]
     },
     "execution_count": 5,
     "metadata": {},
     "output_type": "execute_result"
    }
   ],
   "source": [
    "os.getcwd()"
   ]
  },
  {
   "cell_type": "code",
   "execution_count": 9,
   "metadata": {},
   "outputs": [
    {
     "data": {
      "text/plain": [
       "['Untitled7.ipynb',\n",
       " 'Music',\n",
       " 'Python OS module.ipynb',\n",
       " 'Decorators.ipynb',\n",
       " 'If elif and else statements.ipynb',\n",
       " '.condarc',\n",
       " 'Untitled5.ipynb',\n",
       " '.anyconnect',\n",
       " 'Untitled1.ipynb',\n",
       " 'myfirstnotebook.ipynb',\n",
       " 'Map, filter, lambda.ipynb',\n",
       " '.DS_Store',\n",
       " 'while loop.ipynb',\n",
       " 'Math and Random module.ipynb',\n",
       " 'Datetime.ipynb',\n",
       " 'Numbers.ipynb',\n",
       " '.CFUserTextEncoding',\n",
       " 'Useful operators in python.ipynb',\n",
       " 'Sets.ipynb',\n",
       " 'Variable assignments.ipynb',\n",
       " 'Untitled3.ipynb',\n",
       " 'Untitled.ipynb',\n",
       " 'Generators.ipynb',\n",
       " 'Python Regular Expression.ipynb',\n",
       " 'Untitled4.ipynb',\n",
       " 'Milestone Project 2 warm up.ipynb',\n",
       " 'Untitled6.ipynb',\n",
       " 'Pictures',\n",
       " '.pylint.d',\n",
       " 'List comprehensions.ipynb',\n",
       " 'practice.txt',\n",
       " 'Lists.ipynb',\n",
       " 'Untitled2.ipynb',\n",
       " '.ipython',\n",
       " 'Desktop',\n",
       " 'Library',\n",
       " '.matplotlib',\n",
       " 'Tuples.ipynb',\n",
       " '.oracle_jre_usage',\n",
       " '.spyder-py3',\n",
       " 'Python Collections Module.ipynb',\n",
       " 'IO with basic files in python.ipynb',\n",
       " 'Collections module.ipynb',\n",
       " 'For loop.ipynb',\n",
       " 'Functions.ipynb',\n",
       " '.bash_sessions',\n",
       " 'Methods.ipynb',\n",
       " 'Inheritance.ipynb',\n",
       " 'Public',\n",
       " 'Error and exception handling.ipynb',\n",
       " '.idlerc',\n",
       " '.cisco',\n",
       " '.anaconda',\n",
       " 'Untitled8.ipynb',\n",
       " 'Dictionaries.ipynb',\n",
       " 'Movies',\n",
       " 'Applications',\n",
       " 'Booleans.ipynb',\n",
       " 'opt',\n",
       " '.Trash',\n",
       " 'myfile.txt',\n",
       " '.ipynb_checkpoints',\n",
       " 'Generator Homework.ipynb',\n",
       " '.jupyter',\n",
       " 'Python Debugger.ipynb',\n",
       " 'Strings.ipynb',\n",
       " 'Documents',\n",
       " 'Nested statements and scope.ipynb',\n",
       " '.bash_profile',\n",
       " 'Downloads',\n",
       " '.python_history',\n",
       " 'skillshub_titlecount.ipynb',\n",
       " 'Untitled9.ipynb',\n",
       " 'testfile',\n",
       " 'Comparison Operators.ipynb',\n",
       " '.bash_history',\n",
       " 'OOP - Special method.ipynb',\n",
       " '.conda']"
      ]
     },
     "execution_count": 9,
     "metadata": {},
     "output_type": "execute_result"
    }
   ],
   "source": [
    "os.listdir(\"/Users/nikhilraizada\")"
   ]
  },
  {
   "cell_type": "code",
   "execution_count": 10,
   "metadata": {},
   "outputs": [],
   "source": [
    "#shutil module to move files in different locations"
   ]
  },
  {
   "cell_type": "code",
   "execution_count": 26,
   "metadata": {},
   "outputs": [],
   "source": [
    "import shutil"
   ]
  },
  {
   "cell_type": "code",
   "execution_count": 32,
   "metadata": {},
   "outputs": [
    {
     "ename": "FileNotFoundError",
     "evalue": "[Errno 2] No such file or directory: '/Users/nikhilraizada/Desktop/practice.txt'",
     "output_type": "error",
     "traceback": [
      "\u001b[0;31m---------------------------------------------------------------------------\u001b[0m",
      "\u001b[0;31mFileNotFoundError\u001b[0m                         Traceback (most recent call last)",
      "\u001b[0;32m~/opt/anaconda3/lib/python3.7/shutil.py\u001b[0m in \u001b[0;36mmove\u001b[0;34m(src, dst, copy_function)\u001b[0m\n\u001b[1;32m    565\u001b[0m     \u001b[0;32mtry\u001b[0m\u001b[0;34m:\u001b[0m\u001b[0;34m\u001b[0m\u001b[0;34m\u001b[0m\u001b[0m\n\u001b[0;32m--> 566\u001b[0;31m         \u001b[0mos\u001b[0m\u001b[0;34m.\u001b[0m\u001b[0mrename\u001b[0m\u001b[0;34m(\u001b[0m\u001b[0msrc\u001b[0m\u001b[0;34m,\u001b[0m \u001b[0mreal_dst\u001b[0m\u001b[0;34m)\u001b[0m\u001b[0;34m\u001b[0m\u001b[0;34m\u001b[0m\u001b[0m\n\u001b[0m\u001b[1;32m    567\u001b[0m     \u001b[0;32mexcept\u001b[0m \u001b[0mOSError\u001b[0m\u001b[0;34m:\u001b[0m\u001b[0;34m\u001b[0m\u001b[0;34m\u001b[0m\u001b[0m\n",
      "\u001b[0;31mFileNotFoundError\u001b[0m: [Errno 2] No such file or directory: '/Users/nikhilraizada/Desktop/practice.txt' -> 'os.getcwd()'",
      "\nDuring handling of the above exception, another exception occurred:\n",
      "\u001b[0;31mFileNotFoundError\u001b[0m                         Traceback (most recent call last)",
      "\u001b[0;32m<ipython-input-32-b64b727edb2a>\u001b[0m in \u001b[0;36m<module>\u001b[0;34m\u001b[0m\n\u001b[0;32m----> 1\u001b[0;31m \u001b[0mshutil\u001b[0m\u001b[0;34m.\u001b[0m\u001b[0mmove\u001b[0m\u001b[0;34m(\u001b[0m\u001b[0;34m\"/Users/nikhilraizada/Desktop/practice.txt\"\u001b[0m\u001b[0;34m,\u001b[0m\u001b[0;34m\"os.getcwd()\"\u001b[0m\u001b[0;34m)\u001b[0m\u001b[0;34m\u001b[0m\u001b[0;34m\u001b[0m\u001b[0m\n\u001b[0m",
      "\u001b[0;32m~/opt/anaconda3/lib/python3.7/shutil.py\u001b[0m in \u001b[0;36mmove\u001b[0;34m(src, dst, copy_function)\u001b[0m\n\u001b[1;32m    578\u001b[0m             \u001b[0mrmtree\u001b[0m\u001b[0;34m(\u001b[0m\u001b[0msrc\u001b[0m\u001b[0;34m)\u001b[0m\u001b[0;34m\u001b[0m\u001b[0;34m\u001b[0m\u001b[0m\n\u001b[1;32m    579\u001b[0m         \u001b[0;32melse\u001b[0m\u001b[0;34m:\u001b[0m\u001b[0;34m\u001b[0m\u001b[0;34m\u001b[0m\u001b[0m\n\u001b[0;32m--> 580\u001b[0;31m             \u001b[0mcopy_function\u001b[0m\u001b[0;34m(\u001b[0m\u001b[0msrc\u001b[0m\u001b[0;34m,\u001b[0m \u001b[0mreal_dst\u001b[0m\u001b[0;34m)\u001b[0m\u001b[0;34m\u001b[0m\u001b[0;34m\u001b[0m\u001b[0m\n\u001b[0m\u001b[1;32m    581\u001b[0m             \u001b[0mos\u001b[0m\u001b[0;34m.\u001b[0m\u001b[0munlink\u001b[0m\u001b[0;34m(\u001b[0m\u001b[0msrc\u001b[0m\u001b[0;34m)\u001b[0m\u001b[0;34m\u001b[0m\u001b[0;34m\u001b[0m\u001b[0m\n\u001b[1;32m    582\u001b[0m     \u001b[0;32mreturn\u001b[0m \u001b[0mreal_dst\u001b[0m\u001b[0;34m\u001b[0m\u001b[0;34m\u001b[0m\u001b[0m\n",
      "\u001b[0;32m~/opt/anaconda3/lib/python3.7/shutil.py\u001b[0m in \u001b[0;36mcopy2\u001b[0;34m(src, dst, follow_symlinks)\u001b[0m\n\u001b[1;32m    264\u001b[0m     \u001b[0;32mif\u001b[0m \u001b[0mos\u001b[0m\u001b[0;34m.\u001b[0m\u001b[0mpath\u001b[0m\u001b[0;34m.\u001b[0m\u001b[0misdir\u001b[0m\u001b[0;34m(\u001b[0m\u001b[0mdst\u001b[0m\u001b[0;34m)\u001b[0m\u001b[0;34m:\u001b[0m\u001b[0;34m\u001b[0m\u001b[0;34m\u001b[0m\u001b[0m\n\u001b[1;32m    265\u001b[0m         \u001b[0mdst\u001b[0m \u001b[0;34m=\u001b[0m \u001b[0mos\u001b[0m\u001b[0;34m.\u001b[0m\u001b[0mpath\u001b[0m\u001b[0;34m.\u001b[0m\u001b[0mjoin\u001b[0m\u001b[0;34m(\u001b[0m\u001b[0mdst\u001b[0m\u001b[0;34m,\u001b[0m \u001b[0mos\u001b[0m\u001b[0;34m.\u001b[0m\u001b[0mpath\u001b[0m\u001b[0;34m.\u001b[0m\u001b[0mbasename\u001b[0m\u001b[0;34m(\u001b[0m\u001b[0msrc\u001b[0m\u001b[0;34m)\u001b[0m\u001b[0;34m)\u001b[0m\u001b[0;34m\u001b[0m\u001b[0;34m\u001b[0m\u001b[0m\n\u001b[0;32m--> 266\u001b[0;31m     \u001b[0mcopyfile\u001b[0m\u001b[0;34m(\u001b[0m\u001b[0msrc\u001b[0m\u001b[0;34m,\u001b[0m \u001b[0mdst\u001b[0m\u001b[0;34m,\u001b[0m \u001b[0mfollow_symlinks\u001b[0m\u001b[0;34m=\u001b[0m\u001b[0mfollow_symlinks\u001b[0m\u001b[0;34m)\u001b[0m\u001b[0;34m\u001b[0m\u001b[0;34m\u001b[0m\u001b[0m\n\u001b[0m\u001b[1;32m    267\u001b[0m     \u001b[0mcopystat\u001b[0m\u001b[0;34m(\u001b[0m\u001b[0msrc\u001b[0m\u001b[0;34m,\u001b[0m \u001b[0mdst\u001b[0m\u001b[0;34m,\u001b[0m \u001b[0mfollow_symlinks\u001b[0m\u001b[0;34m=\u001b[0m\u001b[0mfollow_symlinks\u001b[0m\u001b[0;34m)\u001b[0m\u001b[0;34m\u001b[0m\u001b[0;34m\u001b[0m\u001b[0m\n\u001b[1;32m    268\u001b[0m     \u001b[0;32mreturn\u001b[0m \u001b[0mdst\u001b[0m\u001b[0;34m\u001b[0m\u001b[0;34m\u001b[0m\u001b[0m\n",
      "\u001b[0;32m~/opt/anaconda3/lib/python3.7/shutil.py\u001b[0m in \u001b[0;36mcopyfile\u001b[0;34m(src, dst, follow_symlinks)\u001b[0m\n\u001b[1;32m    118\u001b[0m         \u001b[0mos\u001b[0m\u001b[0;34m.\u001b[0m\u001b[0msymlink\u001b[0m\u001b[0;34m(\u001b[0m\u001b[0mos\u001b[0m\u001b[0;34m.\u001b[0m\u001b[0mreadlink\u001b[0m\u001b[0;34m(\u001b[0m\u001b[0msrc\u001b[0m\u001b[0;34m)\u001b[0m\u001b[0;34m,\u001b[0m \u001b[0mdst\u001b[0m\u001b[0;34m)\u001b[0m\u001b[0;34m\u001b[0m\u001b[0;34m\u001b[0m\u001b[0m\n\u001b[1;32m    119\u001b[0m     \u001b[0;32melse\u001b[0m\u001b[0;34m:\u001b[0m\u001b[0;34m\u001b[0m\u001b[0;34m\u001b[0m\u001b[0m\n\u001b[0;32m--> 120\u001b[0;31m         \u001b[0;32mwith\u001b[0m \u001b[0mopen\u001b[0m\u001b[0;34m(\u001b[0m\u001b[0msrc\u001b[0m\u001b[0;34m,\u001b[0m \u001b[0;34m'rb'\u001b[0m\u001b[0;34m)\u001b[0m \u001b[0;32mas\u001b[0m \u001b[0mfsrc\u001b[0m\u001b[0;34m:\u001b[0m\u001b[0;34m\u001b[0m\u001b[0;34m\u001b[0m\u001b[0m\n\u001b[0m\u001b[1;32m    121\u001b[0m             \u001b[0;32mwith\u001b[0m \u001b[0mopen\u001b[0m\u001b[0;34m(\u001b[0m\u001b[0mdst\u001b[0m\u001b[0;34m,\u001b[0m \u001b[0;34m'wb'\u001b[0m\u001b[0;34m)\u001b[0m \u001b[0;32mas\u001b[0m \u001b[0mfdst\u001b[0m\u001b[0;34m:\u001b[0m\u001b[0;34m\u001b[0m\u001b[0;34m\u001b[0m\u001b[0m\n\u001b[1;32m    122\u001b[0m                 \u001b[0mcopyfileobj\u001b[0m\u001b[0;34m(\u001b[0m\u001b[0mfsrc\u001b[0m\u001b[0;34m,\u001b[0m \u001b[0mfdst\u001b[0m\u001b[0;34m)\u001b[0m\u001b[0;34m\u001b[0m\u001b[0;34m\u001b[0m\u001b[0m\n",
      "\u001b[0;31mFileNotFoundError\u001b[0m: [Errno 2] No such file or directory: '/Users/nikhilraizada/Desktop/practice.txt'"
     ]
    }
   ],
   "source": [
    "shutil.move(\"/Users/nikhilraizada/Desktop/practice.txt\",\"os.getcwd()\")"
   ]
  },
  {
   "cell_type": "code",
   "execution_count": 33,
   "metadata": {},
   "outputs": [
    {
     "data": {
      "text/plain": [
       "['Untitled7.ipynb',\n",
       " 'Music',\n",
       " 'Python OS module.ipynb',\n",
       " 'Decorators.ipynb',\n",
       " 'If elif and else statements.ipynb',\n",
       " '.condarc',\n",
       " 'Untitled5.ipynb',\n",
       " '.anyconnect',\n",
       " 'Untitled1.ipynb',\n",
       " 'myfirstnotebook.ipynb',\n",
       " 'Map, filter, lambda.ipynb',\n",
       " '.DS_Store',\n",
       " 'while loop.ipynb',\n",
       " 'Math and Random module.ipynb',\n",
       " 'Datetime.ipynb',\n",
       " 'Numbers.ipynb',\n",
       " '.CFUserTextEncoding',\n",
       " 'Useful operators in python.ipynb',\n",
       " 'Sets.ipynb',\n",
       " 'Variable assignments.ipynb',\n",
       " 'Untitled3.ipynb',\n",
       " 'Untitled.ipynb',\n",
       " 'Generators.ipynb',\n",
       " 'Python Regular Expression.ipynb',\n",
       " 'Untitled4.ipynb',\n",
       " 'Milestone Project 2 warm up.ipynb',\n",
       " 'Untitled6.ipynb',\n",
       " 'Pictures',\n",
       " '.pylint.d',\n",
       " 'List comprehensions.ipynb',\n",
       " 'practice.txt',\n",
       " 'Lists.ipynb',\n",
       " 'Untitled2.ipynb',\n",
       " '.ipython',\n",
       " 'Desktop',\n",
       " 'Library',\n",
       " '.matplotlib',\n",
       " 'Tuples.ipynb',\n",
       " '.oracle_jre_usage',\n",
       " '.spyder-py3',\n",
       " 'Python Collections Module.ipynb',\n",
       " 'IO with basic files in python.ipynb',\n",
       " 'Collections module.ipynb',\n",
       " 'For loop.ipynb',\n",
       " 'Functions.ipynb',\n",
       " '.bash_sessions',\n",
       " 'Methods.ipynb',\n",
       " 'Inheritance.ipynb',\n",
       " 'Public',\n",
       " 'Error and exception handling.ipynb',\n",
       " '.idlerc',\n",
       " '.cisco',\n",
       " '.anaconda',\n",
       " 'Untitled8.ipynb',\n",
       " 'Dictionaries.ipynb',\n",
       " 'Movies',\n",
       " 'Applications',\n",
       " 'Booleans.ipynb',\n",
       " 'opt',\n",
       " '.Trash',\n",
       " 'myfile.txt',\n",
       " '.ipynb_checkpoints',\n",
       " 'Generator Homework.ipynb',\n",
       " '.jupyter',\n",
       " 'Python Debugger.ipynb',\n",
       " 'Strings.ipynb',\n",
       " 'Documents',\n",
       " 'Nested statements and scope.ipynb',\n",
       " '.bash_profile',\n",
       " 'Downloads',\n",
       " '.python_history',\n",
       " 'skillshub_titlecount.ipynb',\n",
       " 'Untitled9.ipynb',\n",
       " 'testfile',\n",
       " 'Comparison Operators.ipynb',\n",
       " '.bash_history',\n",
       " 'OOP - Special method.ipynb',\n",
       " '.conda']"
      ]
     },
     "execution_count": 33,
     "metadata": {},
     "output_type": "execute_result"
    }
   ],
   "source": [
    "os.listdir()"
   ]
  },
  {
   "cell_type": "code",
   "execution_count": 21,
   "metadata": {},
   "outputs": [],
   "source": [
    "# deleting a file"
   ]
  },
  {
   "cell_type": "code",
   "execution_count": 34,
   "metadata": {},
   "outputs": [],
   "source": [
    "import send2trash"
   ]
  },
  {
   "cell_type": "code",
   "execution_count": 35,
   "metadata": {},
   "outputs": [
    {
     "data": {
      "text/plain": [
       "['Untitled7.ipynb',\n",
       " 'Music',\n",
       " 'Python OS module.ipynb',\n",
       " 'Decorators.ipynb',\n",
       " 'If elif and else statements.ipynb',\n",
       " '.condarc',\n",
       " 'Untitled5.ipynb',\n",
       " '.anyconnect',\n",
       " 'Untitled1.ipynb',\n",
       " 'myfirstnotebook.ipynb',\n",
       " 'Map, filter, lambda.ipynb',\n",
       " '.DS_Store',\n",
       " 'while loop.ipynb',\n",
       " 'Math and Random module.ipynb',\n",
       " 'Datetime.ipynb',\n",
       " 'Numbers.ipynb',\n",
       " '.CFUserTextEncoding',\n",
       " 'Useful operators in python.ipynb',\n",
       " 'Sets.ipynb',\n",
       " 'Variable assignments.ipynb',\n",
       " 'Untitled3.ipynb',\n",
       " 'Untitled.ipynb',\n",
       " 'Generators.ipynb',\n",
       " 'Python Regular Expression.ipynb',\n",
       " 'Untitled4.ipynb',\n",
       " 'Milestone Project 2 warm up.ipynb',\n",
       " 'Untitled6.ipynb',\n",
       " 'Pictures',\n",
       " '.pylint.d',\n",
       " 'List comprehensions.ipynb',\n",
       " 'practice.txt',\n",
       " 'Lists.ipynb',\n",
       " 'Untitled2.ipynb',\n",
       " '.ipython',\n",
       " 'Desktop',\n",
       " 'Library',\n",
       " '.matplotlib',\n",
       " 'Tuples.ipynb',\n",
       " '.oracle_jre_usage',\n",
       " '.spyder-py3',\n",
       " 'Python Collections Module.ipynb',\n",
       " 'IO with basic files in python.ipynb',\n",
       " 'Collections module.ipynb',\n",
       " 'For loop.ipynb',\n",
       " 'Functions.ipynb',\n",
       " '.bash_sessions',\n",
       " 'Methods.ipynb',\n",
       " 'Inheritance.ipynb',\n",
       " 'Public',\n",
       " 'Error and exception handling.ipynb',\n",
       " '.idlerc',\n",
       " '.cisco',\n",
       " '.anaconda',\n",
       " 'Untitled8.ipynb',\n",
       " 'Dictionaries.ipynb',\n",
       " 'Movies',\n",
       " 'Applications',\n",
       " 'Booleans.ipynb',\n",
       " 'opt',\n",
       " '.Trash',\n",
       " 'myfile.txt',\n",
       " '.ipynb_checkpoints',\n",
       " 'Generator Homework.ipynb',\n",
       " '.jupyter',\n",
       " 'Python Debugger.ipynb',\n",
       " 'Strings.ipynb',\n",
       " 'Documents',\n",
       " 'Nested statements and scope.ipynb',\n",
       " '.bash_profile',\n",
       " 'Downloads',\n",
       " '.python_history',\n",
       " 'skillshub_titlecount.ipynb',\n",
       " 'Untitled9.ipynb',\n",
       " 'testfile',\n",
       " 'Comparison Operators.ipynb',\n",
       " '.bash_history',\n",
       " 'OOP - Special method.ipynb',\n",
       " '.conda']"
      ]
     },
     "execution_count": 35,
     "metadata": {},
     "output_type": "execute_result"
    }
   ],
   "source": [
    "os.listdir()"
   ]
  },
  {
   "cell_type": "code",
   "execution_count": 36,
   "metadata": {},
   "outputs": [],
   "source": [
    "send2trash.send2trash(\"practice.txt\")"
   ]
  },
  {
   "cell_type": "code",
   "execution_count": 42,
   "metadata": {},
   "outputs": [
    {
     "data": {
      "text/plain": [
       "['Untitled7.ipynb',\n",
       " 'Music',\n",
       " 'Python OS module.ipynb',\n",
       " 'Decorators.ipynb',\n",
       " 'If elif and else statements.ipynb',\n",
       " '.condarc',\n",
       " 'Untitled5.ipynb',\n",
       " '.anyconnect',\n",
       " 'Untitled1.ipynb',\n",
       " 'myfirstnotebook.ipynb',\n",
       " 'Map, filter, lambda.ipynb',\n",
       " '.DS_Store',\n",
       " 'while loop.ipynb',\n",
       " 'Math and Random module.ipynb',\n",
       " 'Datetime.ipynb',\n",
       " 'Numbers.ipynb',\n",
       " '.CFUserTextEncoding',\n",
       " 'Useful operators in python.ipynb',\n",
       " 'Sets.ipynb',\n",
       " 'Variable assignments.ipynb',\n",
       " 'Untitled3.ipynb',\n",
       " 'Untitled.ipynb',\n",
       " 'Generators.ipynb',\n",
       " 'Python Regular Expression.ipynb',\n",
       " 'Untitled4.ipynb',\n",
       " 'Milestone Project 2 warm up.ipynb',\n",
       " 'Untitled6.ipynb',\n",
       " 'Pictures',\n",
       " '.pylint.d',\n",
       " 'List comprehensions.ipynb',\n",
       " 'Lists.ipynb',\n",
       " 'Untitled2.ipynb',\n",
       " '.ipython',\n",
       " 'Desktop',\n",
       " 'Library',\n",
       " '.matplotlib',\n",
       " 'Tuples.ipynb',\n",
       " '.oracle_jre_usage',\n",
       " '.spyder-py3',\n",
       " 'Python Collections Module.ipynb',\n",
       " 'IO with basic files in python.ipynb',\n",
       " 'Collections module.ipynb',\n",
       " 'For loop.ipynb',\n",
       " 'Functions.ipynb',\n",
       " '.bash_sessions',\n",
       " 'Methods.ipynb',\n",
       " 'Inheritance.ipynb',\n",
       " 'Public',\n",
       " 'Error and exception handling.ipynb',\n",
       " '.idlerc',\n",
       " '.cisco',\n",
       " '.anaconda',\n",
       " 'Untitled8.ipynb',\n",
       " 'Dictionaries.ipynb',\n",
       " 'Movies',\n",
       " 'Applications',\n",
       " 'Booleans.ipynb',\n",
       " 'opt',\n",
       " '.Trash',\n",
       " 'myfile.txt',\n",
       " '.ipynb_checkpoints',\n",
       " 'Generator Homework.ipynb',\n",
       " '.jupyter',\n",
       " 'Python Debugger.ipynb',\n",
       " 'Strings.ipynb',\n",
       " 'Documents',\n",
       " 'Nested statements and scope.ipynb',\n",
       " '.bash_profile',\n",
       " 'Downloads',\n",
       " '.python_history',\n",
       " 'skillshub_titlecount.ipynb',\n",
       " 'Untitled9.ipynb',\n",
       " 'testfile',\n",
       " 'Comparison Operators.ipynb',\n",
       " '.bash_history',\n",
       " 'OOP - Special method.ipynb',\n",
       " '.conda']"
      ]
     },
     "execution_count": 42,
     "metadata": {},
     "output_type": "execute_result"
    }
   ],
   "source": [
    "os.listdir()"
   ]
  },
  {
   "cell_type": "code",
   "execution_count": 46,
   "metadata": {},
   "outputs": [
    {
     "data": {
      "text/plain": [
       "'/Users/nikhilraizada'"
      ]
     },
     "execution_count": 46,
     "metadata": {},
     "output_type": "execute_result"
    }
   ],
   "source": [
    "os.getcwd()"
   ]
  },
  {
   "cell_type": "code",
   "execution_count": 49,
   "metadata": {},
   "outputs": [],
   "source": [
    "#os.walk, it makes a treee and its going to look every folder,subfolder and files on the given path\n",
    "#you can also use different logics. For ex: if else statement to check the file name"
   ]
  },
  {
   "cell_type": "code",
   "execution_count": 44,
   "metadata": {},
   "outputs": [],
   "source": [
    "filepath = \"/Users/nikhilraizada/Downloads/Complete-Python-3-Bootcamp-master-2/12-Advanced Python Modules/Example_Top_Level\""
   ]
  },
  {
   "cell_type": "code",
   "execution_count": 48,
   "metadata": {},
   "outputs": [
    {
     "name": "stdout",
     "output_type": "stream",
     "text": [
      "currently looking at /Users/nikhilraizada/Downloads/Complete-Python-3-Bootcamp-master-2/12-Advanced Python Modules/Example_Top_Level\n",
      "\n",
      "\n",
      "The subfolders are: \n",
      "Subfolder: Mid-Example-One\n",
      "\n",
      "\n",
      "The files are:\n",
      "Files: Mid-Example.txt\n",
      "\n",
      "\n",
      "currently looking at /Users/nikhilraizada/Downloads/Complete-Python-3-Bootcamp-master-2/12-Advanced Python Modules/Example_Top_Level/Mid-Example-One\n",
      "\n",
      "\n",
      "The subfolders are: \n",
      "Subfolder: Bottom-Level-Two\n",
      "Subfolder: Bottom-Level-One\n",
      "\n",
      "\n",
      "The files are:\n",
      "Files: Mid-Level-Doc.txt\n",
      "\n",
      "\n",
      "currently looking at /Users/nikhilraizada/Downloads/Complete-Python-3-Bootcamp-master-2/12-Advanced Python Modules/Example_Top_Level/Mid-Example-One/Bottom-Level-Two\n",
      "\n",
      "\n",
      "The subfolders are: \n",
      "\n",
      "\n",
      "The files are:\n",
      "Files: Bottom-Text-Two.txt\n",
      "\n",
      "\n",
      "currently looking at /Users/nikhilraizada/Downloads/Complete-Python-3-Bootcamp-master-2/12-Advanced Python Modules/Example_Top_Level/Mid-Example-One/Bottom-Level-One\n",
      "\n",
      "\n",
      "The subfolders are: \n",
      "\n",
      "\n",
      "The files are:\n",
      "Files: One_Text.txt\n",
      "\n",
      "\n"
     ]
    }
   ],
   "source": [
    "for folder,sub_folders,files in os.walk(filepath):\n",
    "    print(f\"currently looking at {folder}\")\n",
    "    print(\"\\n\")\n",
    "    print(\"The subfolders are: \")\n",
    "    for sub_fold in sub_folders:\n",
    "        print(f\"Subfolder: {sub_fold}\")\n",
    "    print(\"\\n\")\n",
    "    print(\"The files are:\")\n",
    "    for f in files:\n",
    "        print(f\"Files: {f}\")\n",
    "    print(\"\\n\")"
   ]
  },
  {
   "cell_type": "code",
   "execution_count": 50,
   "metadata": {},
   "outputs": [
    {
     "data": {
      "text/plain": [
       "'/Users/nikhilraizada'"
      ]
     },
     "execution_count": 50,
     "metadata": {},
     "output_type": "execute_result"
    }
   ],
   "source": [
    "os.getcwd()\n"
   ]
  },
  {
   "cell_type": "code",
   "execution_count": null,
   "metadata": {},
   "outputs": [],
   "source": []
  },
  {
   "cell_type": "code",
   "execution_count": null,
   "metadata": {},
   "outputs": [],
   "source": []
  }
 ],
 "metadata": {
  "kernelspec": {
   "display_name": "Python 3",
   "language": "python",
   "name": "python3"
  },
  "language_info": {
   "codemirror_mode": {
    "name": "ipython",
    "version": 3
   },
   "file_extension": ".py",
   "mimetype": "text/x-python",
   "name": "python",
   "nbconvert_exporter": "python",
   "pygments_lexer": "ipython3",
   "version": "3.7.6"
  }
 },
 "nbformat": 4,
 "nbformat_minor": 4
}
